{
  "nbformat": 4,
  "nbformat_minor": 0,
  "metadata": {
    "colab": {
      "provenance": [],
      "include_colab_link": true
    },
    "kernelspec": {
      "name": "python3",
      "display_name": "Python 3"
    },
    "language_info": {
      "name": "python"
    }
  },
  "cells": [
    {
      "cell_type": "markdown",
      "metadata": {
        "id": "view-in-github",
        "colab_type": "text"
      },
      "source": [
        "<a href=\"https://colab.research.google.com/github/Rashneema/PRO-V2-C141/blob/main/PRO_C141_Teacher_Activity.ipynb\" target=\"_parent\"><img src=\"https://colab.research.google.com/assets/colab-badge.svg\" alt=\"Open In Colab\"/></a>"
      ]
    },
    {
      "cell_type": "code",
      "source": [
        "# downloading contents from a repo\n",
        "!git clone https://github.com/procodingclass/demographic_filtered_movie.git"
      ],
      "metadata": {
        "id": "SVFXXYfff6sm",
        "outputId": "6b54a004-5db0-4751-e5f8-1b937e7f662d",
        "colab": {
          "base_uri": "https://localhost:8080/"
        }
      },
      "execution_count": 1,
      "outputs": [
        {
          "output_type": "stream",
          "name": "stdout",
          "text": [
            "Cloning into 'demographic_filtered_movie'...\n",
            "remote: Enumerating objects: 18, done.\u001b[K\n",
            "remote: Counting objects: 100% (18/18), done.\u001b[K\n",
            "remote: Compressing objects: 100% (12/12), done.\u001b[K\n",
            "remote: Total 18 (delta 5), reused 14 (delta 4), pack-reused 0\u001b[K\n",
            "Receiving objects: 100% (18/18), 7.68 MiB | 17.03 MiB/s, done.\n",
            "Resolving deltas: 100% (5/5), done.\n"
          ]
        }
      ]
    },
    {
      "cell_type": "code",
      "source": [
        "# creating dataframe\n",
        "import pandas as pd\n",
        "movies_df= pd.read_csv(\"/content/demographic_filtered_movie/movies.csv\")\n",
        "movies_links_df = pd.read_csv(\"/content/demographic_filtered_movie/movie_links.csv\")"
      ],
      "metadata": {
        "id": "mf7pSlVFjSzu"
      },
      "execution_count": 2,
      "outputs": []
    },
    {
      "cell_type": "code",
      "source": [
        "# printing shape for both the df\n",
        "movies_df.shape, movies_links_df.shape"
      ],
      "metadata": {
        "id": "JIoX-_cQ4d_p",
        "outputId": "857b7505-1103-4ceb-c570-96d9705fcd4f",
        "colab": {
          "base_uri": "https://localhost:8080/"
        }
      },
      "execution_count": 3,
      "outputs": [
        {
          "output_type": "execute_result",
          "data": {
            "text/plain": [
              "((4803, 28), (4747, 2))"
            ]
          },
          "metadata": {},
          "execution_count": 3
        }
      ]
    },
    {
      "cell_type": "code",
      "source": [
        "# info for movies_df\n",
        "movies_df.info()"
      ],
      "metadata": {
        "id": "nyuOifoWj1mG",
        "outputId": "74a213c8-193f-4961-f216-4c9914dce078",
        "colab": {
          "base_uri": "https://localhost:8080/"
        }
      },
      "execution_count": 4,
      "outputs": [
        {
          "output_type": "stream",
          "name": "stdout",
          "text": [
            "<class 'pandas.core.frame.DataFrame'>\n",
            "RangeIndex: 4803 entries, 0 to 4802\n",
            "Data columns (total 28 columns):\n",
            " #   Column                Non-Null Count  Dtype  \n",
            "---  ------                --------------  -----  \n",
            " 0   Unnamed: 0            4803 non-null   int64  \n",
            " 1   index                 4803 non-null   int64  \n",
            " 2   budget                4803 non-null   int64  \n",
            " 3   genres                4803 non-null   object \n",
            " 4   homepage              1712 non-null   object \n",
            " 5   id                    4803 non-null   int64  \n",
            " 6   keywords              4803 non-null   object \n",
            " 7   original_language     4803 non-null   object \n",
            " 8   original_title        4803 non-null   object \n",
            " 9   overview              4799 non-null   object \n",
            " 10  popularity            4803 non-null   float64\n",
            " 11  production_companies  4803 non-null   object \n",
            " 12  production_countries  4803 non-null   object \n",
            " 13  release_date          4802 non-null   object \n",
            " 14  revenue               4803 non-null   int64  \n",
            " 15  runtime               4801 non-null   float64\n",
            " 16  spoken_languages      4803 non-null   object \n",
            " 17  status                4803 non-null   object \n",
            " 18  tagline               3959 non-null   object \n",
            " 19  title_x               4803 non-null   object \n",
            " 20  vote_average          4803 non-null   float64\n",
            " 21  vote_count            4803 non-null   int64  \n",
            " 22  title_y               4803 non-null   object \n",
            " 23  cast                  4803 non-null   object \n",
            " 24  crew                  4802 non-null   object \n",
            " 25  weighted_rating       4803 non-null   float64\n",
            " 26  director              4773 non-null   object \n",
            " 27  soup                  4790 non-null   object \n",
            "dtypes: float64(4), int64(6), object(18)\n",
            "memory usage: 1.0+ MB\n"
          ]
        }
      ]
    },
    {
      "cell_type": "code",
      "source": [
        "# info for movie_links_df\n",
        "movies_links_df.info()"
      ],
      "metadata": {
        "id": "WAKT6H5Qj3D4",
        "outputId": "d2c40cf1-3b5d-4f71-d2eb-3e19301d8307",
        "colab": {
          "base_uri": "https://localhost:8080/"
        }
      },
      "execution_count": 5,
      "outputs": [
        {
          "output_type": "stream",
          "name": "stdout",
          "text": [
            "<class 'pandas.core.frame.DataFrame'>\n",
            "RangeIndex: 4747 entries, 0 to 4746\n",
            "Data columns (total 2 columns):\n",
            " #   Column          Non-Null Count  Dtype \n",
            "---  ------          --------------  ----- \n",
            " 0   original_title  4747 non-null   object\n",
            " 1   poster_link     4747 non-null   object\n",
            "dtypes: object(2)\n",
            "memory usage: 74.3+ KB\n"
          ]
        }
      ]
    },
    {
      "cell_type": "code",
      "source": [
        "# merging dataframe\n",
        "final_df = pd.merge(movies_df,movies_links_df,on=\"original_title\")"
      ],
      "metadata": {
        "id": "ywMbePj5j9Ab"
      },
      "execution_count": 6,
      "outputs": []
    },
    {
      "cell_type": "code",
      "source": [
        "# info for final df\n",
        "final_df.info()"
      ],
      "metadata": {
        "id": "wRm-ts4klNPF",
        "outputId": "8b1f3b71-84aa-4887-ec5d-68c80069b61b",
        "colab": {
          "base_uri": "https://localhost:8080/"
        }
      },
      "execution_count": 7,
      "outputs": [
        {
          "output_type": "stream",
          "name": "stdout",
          "text": [
            "<class 'pandas.core.frame.DataFrame'>\n",
            "Int64Index: 4748 entries, 0 to 4747\n",
            "Data columns (total 29 columns):\n",
            " #   Column                Non-Null Count  Dtype  \n",
            "---  ------                --------------  -----  \n",
            " 0   Unnamed: 0            4748 non-null   int64  \n",
            " 1   index                 4748 non-null   int64  \n",
            " 2   budget                4748 non-null   int64  \n",
            " 3   genres                4748 non-null   object \n",
            " 4   homepage              1701 non-null   object \n",
            " 5   id                    4748 non-null   int64  \n",
            " 6   keywords              4748 non-null   object \n",
            " 7   original_language     4748 non-null   object \n",
            " 8   original_title        4748 non-null   object \n",
            " 9   overview              4744 non-null   object \n",
            " 10  popularity            4748 non-null   float64\n",
            " 11  production_companies  4748 non-null   object \n",
            " 12  production_countries  4748 non-null   object \n",
            " 13  release_date          4747 non-null   object \n",
            " 14  revenue               4748 non-null   int64  \n",
            " 15  runtime               4746 non-null   float64\n",
            " 16  spoken_languages      4748 non-null   object \n",
            " 17  status                4748 non-null   object \n",
            " 18  tagline               3929 non-null   object \n",
            " 19  title_x               4748 non-null   object \n",
            " 20  vote_average          4748 non-null   float64\n",
            " 21  vote_count            4748 non-null   int64  \n",
            " 22  title_y               4748 non-null   object \n",
            " 23  cast                  4748 non-null   object \n",
            " 24  crew                  4747 non-null   object \n",
            " 25  weighted_rating       4748 non-null   float64\n",
            " 26  director              4719 non-null   object \n",
            " 27  soup                  4736 non-null   object \n",
            " 28  poster_link           4748 non-null   object \n",
            "dtypes: float64(4), int64(6), object(19)\n",
            "memory usage: 1.1+ MB\n"
          ]
        }
      ]
    },
    {
      "cell_type": "code",
      "source": [
        "# converting dataframe to csv\n",
        "final_df.to_csv(\"final.csv\")"
      ],
      "metadata": {
        "id": "zrupDv02nkSJ"
      },
      "execution_count": 8,
      "outputs": []
    },
    {
      "cell_type": "code",
      "source": [
        "# downloading csv file\n",
        "from google.colab import files\n",
        "files.download('final.csv')"
      ],
      "metadata": {
        "id": "NXn6USZoniFT",
        "outputId": "45a4b2ad-ced4-4c56-bdef-c0b0fe2c2a90",
        "colab": {
          "base_uri": "https://localhost:8080/",
          "height": 17
        }
      },
      "execution_count": 9,
      "outputs": [
        {
          "output_type": "display_data",
          "data": {
            "text/plain": [
              "<IPython.core.display.Javascript object>"
            ],
            "application/javascript": [
              "\n",
              "    async function download(id, filename, size) {\n",
              "      if (!google.colab.kernel.accessAllowed) {\n",
              "        return;\n",
              "      }\n",
              "      const div = document.createElement('div');\n",
              "      const label = document.createElement('label');\n",
              "      label.textContent = `Downloading \"${filename}\": `;\n",
              "      div.appendChild(label);\n",
              "      const progress = document.createElement('progress');\n",
              "      progress.max = size;\n",
              "      div.appendChild(progress);\n",
              "      document.body.appendChild(div);\n",
              "\n",
              "      const buffers = [];\n",
              "      let downloaded = 0;\n",
              "\n",
              "      const channel = await google.colab.kernel.comms.open(id);\n",
              "      // Send a message to notify the kernel that we're ready.\n",
              "      channel.send({})\n",
              "\n",
              "      for await (const message of channel.messages) {\n",
              "        // Send a message to notify the kernel that we're ready.\n",
              "        channel.send({})\n",
              "        if (message.buffers) {\n",
              "          for (const buffer of message.buffers) {\n",
              "            buffers.push(buffer);\n",
              "            downloaded += buffer.byteLength;\n",
              "            progress.value = downloaded;\n",
              "          }\n",
              "        }\n",
              "      }\n",
              "      const blob = new Blob(buffers, {type: 'application/binary'});\n",
              "      const a = document.createElement('a');\n",
              "      a.href = window.URL.createObjectURL(blob);\n",
              "      a.download = filename;\n",
              "      div.appendChild(a);\n",
              "      a.click();\n",
              "      div.remove();\n",
              "    }\n",
              "  "
            ]
          },
          "metadata": {}
        },
        {
          "output_type": "display_data",
          "data": {
            "text/plain": [
              "<IPython.core.display.Javascript object>"
            ],
            "application/javascript": [
              "download(\"download_6321d5a5-db2e-4c9d-9eff-786185a9eb1a\", \"final.csv\", 27603662)"
            ]
          },
          "metadata": {}
        }
      ]
    }
  ]
}